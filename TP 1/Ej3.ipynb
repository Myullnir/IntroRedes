{
 "cells": [
  {
   "cell_type": "code",
   "execution_count": 81,
   "metadata": {},
   "outputs": [],
   "source": [
    "# -*- coding: utf-8 -*-\n",
    "\"\"\"\n",
    "Created on Thu Sep 13 16:27:06 2018\n",
    "\n",
    "@author: Fabio\n",
    "\"\"\"\n",
    "import numpy as np\n",
    "import networkx as nx\n",
    "import matplotlib.pylab as plt\n",
    "import random\n",
    "\n",
    "# G = nx.read_gml('as-22july06.gml')\n",
    "\n",
    "# Grado=[]\n",
    "\n",
    "\n",
    "# for grad in G.degree:\n",
    "#     Grado.append(G.degree(grad[0]))\n",
    "\n",
    "# Grado.sort()\n",
    "\n",
    "# #for j in range(len(Grado)):\n",
    "# #    print(Grado[j])\n",
    "    \n",
    "# # Que necesito para graficar probabilidad?\n",
    "# #Casos totales\n",
    "# #print(len(G.degree()))\n",
    "\n",
    "# #Hasta que k tiene sentido calcular Pk?\n",
    "# #print(max(Grado))\n",
    "\n",
    "# #Cuales son los casos favorables? usa el count para eso\n",
    "# #print(Grado.count(1))\n",
    "\n",
    "# #Ya estamos, ahora hagamos la probabilidad\n",
    "\n",
    "# Prob=[]\n",
    "\n",
    "# for k in range(1,max(Grado)+1):\n",
    "#     Pk=Grado.count(k)/len(G.degree)\n",
    "#     Prob.append(Pk)\n",
    "\n",
    "# K=np.arange(1,max(Grado)+1)\n",
    "\n",
    "\n",
    "\n",
    "# # plt.semilogx(K,Prob,\"*g\")\n",
    "# # plt.title(\"Logaritmo en el Eje x, binneado lineal\")\n",
    "# # plt.xlabel(\"Grado K\")\n",
    "# # plt.ylabel(\"Probabilidad Pk\")\n",
    "# # plt.show()\n",
    "\n",
    "# # plt.loglog(K,Prob,\"*r\")\n",
    "# # plt.title(\"Logaritmo en ambos ejes, binneado lineal\")\n",
    "# # plt.xlabel(\"Grado K\")\n",
    "# # plt.ylabel(\"Probabilidad Pk\")\n",
    "# # plt.show()\n",
    "\n",
    "\n",
    "a=np.logspace(0,11,num=12,base=2)\n",
    "b=2390\n",
    "Bins=np.append(a,b)\n",
    "Num=[]\n",
    "Cen=[]\n",
    "#plt.hist(Grado,bins=Bins)\n",
    "Num,Cen=np.histogram(Grado,bins=Bins)\n",
    "\n",
    "\n",
    "for el,bi in zip(Num,Cen):\n",
    "    if el==0:\n",
    "        print(bi)\n",
    "\n",
    "\n",
    "\n",
    "\n",
    "\n",
    "#Casi estoy, ahora tengo que calcular los Pk Para eso tengo que hacer promedios de los Pk\n",
    "\n"
   ]
  },
  {
   "cell_type": "code",
   "execution_count": 84,
   "metadata": {},
   "outputs": [
    {
     "name": "stdout",
     "output_type": "stream",
     "text": [
      "[  3.41418804e-01   5.19052389e-01   8.13482559e-02   3.16596264e-02\n",
      "   1.44580412e-02   6.31450594e-03   3.04838218e-03   1.21935287e-03\n",
      "   8.27418020e-04   3.91934852e-04   2.17741584e-04   4.35483169e-05]\n",
      "[  1.00000000e+00   2.00000000e+00   4.00000000e+00   1.00000000e+01\n",
      "   2.10000000e+01   4.20000000e+01   8.60000000e+01   1.76000000e+02\n",
      "   3.40000000e+02   6.20000000e+02   1.49600000e+03   2.39000000e+03]\n"
     ]
    }
   ],
   "source": [
    "Cenf=Cen.astype(int)\n",
    "\n",
    "Cent=[]\n",
    "\n",
    "for l in range (len(Cenf)-1):\n",
    "    m=0\n",
    "    Long=np.arange(Cenf[l],Cenf[l+1],1)\n",
    "    for j in Long:\n",
    "        m=m+(j*(Grado.count(j)))/Num[l]\n",
    "    m=math.floor(m)\n",
    "    Cent=np.append(Cent,m)\n",
    "\n",
    "Cent[len(Cent)-1]=Cen[len(Cen)-1]\n",
    "\n",
    "\n",
    "Probt=[]\n",
    "\n",
    "for l in range (len(Cenf)-1):\n",
    "    m=0\n",
    "    Long=np.arange(Cenf[l],Cenf[l+1],1)\n",
    "    for j in Long:\n",
    "        m=m+Prob[j-1]\n",
    "    Probt=np.append(Probt,m)\n",
    "\n",
    "Probt[len(Probt)-1]=Prob[len(Prob)-1]    \n",
    "    \n",
    "print(Probt)\n",
    "print(Cent)"
   ]
  },
  {
   "cell_type": "code",
   "execution_count": 86,
   "metadata": {},
   "outputs": [
    {
     "data": {
      "image/png": "[encoded data removed]",
      "text/plain": [
       "<matplotlib.figure.Figure at 0x7f6e15e412b0>"
      ]
     },
     "metadata": {},
     "output_type": "display_data"
    },
    {
     "data": {
      "image/png": "[encoded data removed]",
      "text/plain": [
       "<matplotlib.figure.Figure at 0x7f6e14feccf8>"
      ]
     },
     "metadata": {},
     "output_type": "display_data"
    }
   ],
   "source": [
    "plt.loglog(Cent,Probt,\"*b\")\n",
    "plt.title(\"Logaritmo en ambos, binneado lineal/logarítmico\")\n",
    "plt.xlabel(\"Grado K\")\n",
    "plt.ylabel(\"Probabilidad de hallar nodo de grado K\")\n",
    "plt.show()\n",
    "\n",
    "plt.semilogx(Cent,Probt,\"*y\")\n",
    "plt.title(\"Logaritmo en eje x, binneado lineal/logarítmico\")\n",
    "plt.xlabel(\"Grado K\")\n",
    "plt.ylabel(\"Probabilidad de hallar nodo de grado K\")\n",
    "plt.show()"
   ]
  },
  {
   "cell_type": "code",
   "execution_count": 61,
   "metadata": {},
   "outputs": [],
   "source": [
    "import math"
   ]
  }
 ],
 "metadata": {
  "kernelspec": {
   "display_name": "Python 3",
   "language": "python",
   "name": "python3"
  },
  "language_info": {
   "codemirror_mode": {
    "name": "ipython",
    "version": 3
   },
   "file_extension": ".py",
   "mimetype": "text/x-python",
   "name": "python",
   "nbconvert_exporter": "python",
   "pygments_lexer": "ipython3",
   "version": "3.5.2"
  }
 },
 "nbformat": 4,
 "nbformat_minor": 2
}
