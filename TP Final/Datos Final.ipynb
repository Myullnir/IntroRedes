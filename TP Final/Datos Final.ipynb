{
 "cells": [
  {
   "cell_type": "code",
   "execution_count": null,
   "metadata": {},
   "outputs": [],
   "source": [
    "import networkx as nx\n",
    "import math\n",
    "import matplotlib.pylab as plt\n",
    "import numpy as np\n",
    "import community\n",
    "\n",
    "def ldata(archive):\n",
    "        f = open(archive)\n",
    "        data = []\n",
    "        for line in f:\n",
    "            col = line.split(\",\")\n",
    "            col = [x.strip() for x in col]\n",
    "            data.append(col)\n",
    "        return data \n",
    "    \n",
    "    \n",
    "Datos=ldata(\"soc-sign-bitcoinotc.csv\")\n",
    "\n",
    "tups=[[x[0],x[1],x[2]]for x in Datos]\n",
    "\n",
    "G=nx.DiGraph()\n",
    "\n",
    "G.add_weighted_edges_from(tups)\n",
    "nx.draw(G,width=1, \n",
    "        node_size=150,\n",
    "        with_labels=False)\n",
    "plt.title(\"Confianza y desconfianza\")\n",
    "plt.show()\n"
   ]
  }
 ],
 "metadata": {
  "kernelspec": {
   "display_name": "Python 3",
   "language": "python",
   "name": "python3"
  },
  "language_info": {
   "codemirror_mode": {
    "name": "ipython",
    "version": 3
   },
   "file_extension": ".py",
   "mimetype": "text/x-python",
   "name": "python",
   "nbconvert_exporter": "python",
   "pygments_lexer": "ipython3",
   "version": "3.5.2"
  }
 },
 "nbformat": 4,
 "nbformat_minor": 2
}
